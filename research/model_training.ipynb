{
 "cells": [
  {
   "cell_type": "code",
   "execution_count": 1,
   "metadata": {},
   "outputs": [
    {
     "data": {
      "text/plain": [
       "'d:\\\\practice\\\\MLproject\\\\research'"
      ]
     },
     "execution_count": 1,
     "metadata": {},
     "output_type": "execute_result"
    }
   ],
   "source": [
    "lib = %pwd\n",
    "lib"
   ]
  },
  {
   "cell_type": "code",
   "execution_count": 2,
   "metadata": {},
   "outputs": [
    {
     "data": {
      "text/plain": [
       "'d:\\\\practice\\\\MLproject'"
      ]
     },
     "execution_count": 2,
     "metadata": {},
     "output_type": "execute_result"
    }
   ],
   "source": [
    "import os\n",
    "\n",
    "file_dir,file_name = os.path.split(lib)\n",
    "file_dir"
   ]
  },
  {
   "cell_type": "code",
   "execution_count": 3,
   "metadata": {},
   "outputs": [],
   "source": [
    "import sys\n",
    "\n",
    "sys.path.append(file_dir)"
   ]
  },
  {
   "cell_type": "code",
   "execution_count": 5,
   "metadata": {},
   "outputs": [],
   "source": [
    "from dataclasses import dataclass\n",
    "from pathlib import Path\n",
    "\n",
    "\n",
    "@dataclass(frozen=True)\n",
    "class ModelTrainerConfig:\n",
    "    root_dir: Path\n",
    "    train_data_path: Path\n",
    "    test_data_path: Path\n",
    "    model_name: str\n",
    "    objective: str\n",
    "    colsample_bytree:  float\n",
    "    learning_rate:  float\n",
    "    max_depth:  int \n",
    "    alpha:  int \n",
    "    n_estimators:  int\n",
    "    target_column: str"
   ]
  },
  {
   "cell_type": "code",
   "execution_count": 6,
   "metadata": {},
   "outputs": [],
   "source": [
    "from src.mlProject.constants import *\n",
    "from src.mlProject.utils.common import read_yaml, create_directories"
   ]
  },
  {
   "cell_type": "code",
   "execution_count": 7,
   "metadata": {},
   "outputs": [],
   "source": [
    "from pathlib import Path\n",
    "\n",
    "class ConfigurationManager:\n",
    "    def __init__(\n",
    "        self,\n",
    "        config_filepath = r\"D:\\practice\\MLproject\\config\\config.yaml\",\n",
    "        params_filepath = r\"D:\\practice\\MLproject\\params.yaml\",\n",
    "        schema_filepath = r\"D:\\practice\\MLproject\\schema.yaml\"):\n",
    "\n",
    "        config_filepath = Path(config_filepath)\n",
    "        params_filepath = Path(params_filepath)\n",
    "        schema_filepath = Path(schema_filepath)\n",
    "\n",
    "        self.config = read_yaml(config_filepath)\n",
    "        self.params = read_yaml(params_filepath)\n",
    "        self.schema = read_yaml(schema_filepath)\n",
    "\n",
    "        create_directories([self.config.artifacts_root])\n",
    "\n",
    "\n",
    "    def get_model_trainer_config(self) -> ModelTrainerConfig:\n",
    "        config = self.config.model_trainer\n",
    "        params = self.params.XGBRegressor\n",
    "        schema =  self.schema.TARGET_COLUMN\n",
    "\n",
    "        create_directories([config.root_dir])\n",
    "\n",
    "        model_trainer_config = ModelTrainerConfig(\n",
    "            root_dir=config.root_dir,\n",
    "            train_data_path = config.train_data_path,\n",
    "            test_data_path = config.test_data_path,\n",
    "            model_name = config.model_name,\n",
    "            objective = params.objective,\n",
    "            colsample_bytree = params.colsample_bytree,\n",
    "            learning_rate = params.learning_rate,\n",
    "            max_depth = params.max_depth,\n",
    "            alpha = params.alpha,\n",
    "            n_estimators = params.n_estimators,\n",
    "            target_column = schema.name\n",
    "            \n",
    "        )\n",
    "\n",
    "        return model_trainer_config"
   ]
  },
  {
   "cell_type": "code",
   "execution_count": 9,
   "metadata": {},
   "outputs": [],
   "source": [
    "import pandas as pd\n",
    "import os\n",
    "from src.mlProject import logger\n",
    "import xgboost as xgb\n",
    "import joblib"
   ]
  },
  {
   "cell_type": "code",
   "execution_count": 12,
   "metadata": {},
   "outputs": [],
   "source": [
    "class ModelTrainer:\n",
    "    def __init__(self, config: ModelTrainerConfig):\n",
    "        self.config = config\n",
    "\n",
    "    \n",
    "    def train(self):\n",
    "        train_data = pd.read_csv(self.config.train_data_path)\n",
    "        test_data = pd.read_csv(self.config.test_data_path)\n",
    "\n",
    "\n",
    "        train_x = train_data.drop([self.config.target_column], axis=1)\n",
    "        test_x = test_data.drop([self.config.target_column], axis=1)\n",
    "        train_y = train_data[[self.config.target_column]]\n",
    "        test_y = test_data[[self.config.target_column]]\n",
    "        \n",
    "        xg_reg = xgb.XGBRegressor(objective =self.config.objective, \n",
    "                          colsample_bytree = self.config.colsample_bytree, \n",
    "                          learning_rate = self.config.learning_rate,\n",
    "                          max_depth = self.config.max_depth, \n",
    "                          alpha = self.config.alpha, \n",
    "                          n_estimators = self.config.n_estimators)\n",
    "\n",
    "        xg_reg.fit(train_x, train_y)\n",
    "        \n",
    "        joblib.dump(xg_reg, os.path.join(self.config.root_dir, self.config.model_name))\n",
    "        return os.path.join(self.config.root_dir, self.config.model_name)\n",
    "\n"
   ]
  },
  {
   "cell_type": "code",
   "execution_count": 13,
   "metadata": {},
   "outputs": [
    {
     "name": "stdout",
     "output_type": "stream",
     "text": [
      "[2024-04-21 21:41:32,215: INFO: common: yaml file: D:\\practice\\MLproject\\config\\config.yaml loaded successfully]\n",
      "[2024-04-21 21:41:32,223: INFO: common: yaml file: D:\\practice\\MLproject\\params.yaml loaded successfully]\n",
      "[2024-04-21 21:41:32,232: INFO: common: yaml file: D:\\practice\\MLproject\\schema.yaml loaded successfully]\n",
      "[2024-04-21 21:41:32,235: INFO: common: created directory at: artifacts]\n",
      "[2024-04-21 21:41:32,235: INFO: common: created directory at: artifacts/model_trainer]\n"
     ]
    },
    {
     "name": "stdout",
     "output_type": "stream",
     "text": [
      "[2024-04-21 21:41:32,663: INFO: 1990927345: Model trained successfully and saved at: artifacts/model_trainer\\model.joblib]\n"
     ]
    }
   ],
   "source": [
    "STAGE_NAME = \"Model Trainer stage\"\n",
    "\n",
    "try:\n",
    "    config = ConfigurationManager()\n",
    "    model_trainer_config = config.get_model_trainer_config()\n",
    "    model_training = ModelTrainer(config=model_trainer_config)\n",
    "    model_training.train()\n",
    "    logger.info(f\"Model trained successfully and saved at: {model_training.train()}\")\n",
    "except Exception as e:\n",
    "    logger.exception(f\"Error occurred during {STAGE_NAME} execution: {str(e)}\")\n",
    "    raise e"
   ]
  }
 ],
 "metadata": {
  "kernelspec": {
   "display_name": ".venv",
   "language": "python",
   "name": "python3"
  },
  "language_info": {
   "codemirror_mode": {
    "name": "ipython",
    "version": 3
   },
   "file_extension": ".py",
   "mimetype": "text/x-python",
   "name": "python",
   "nbconvert_exporter": "python",
   "pygments_lexer": "ipython3",
   "version": "3.12.0"
  }
 },
 "nbformat": 4,
 "nbformat_minor": 2
}
